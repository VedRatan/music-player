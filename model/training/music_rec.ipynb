{
  "cells": [
    {
      "cell_type": "code",
      "execution_count": 1,
      "metadata": {
        "colab": {
          "base_uri": "https://localhost:8080/"
        },
        "id": "WfYJItbsJFBA",
        "outputId": "99d9e52b-51d9-43ba-f654-3482b4de2320"
      },
      "outputs": [
        {
          "output_type": "stream",
          "name": "stdout",
          "text": [
            "Mounted at /content/gdrive\n"
          ]
        }
      ],
      "source": [
        "from google.colab import drive\n",
        "\n",
        "drive.mount(\"/content/gdrive\")"
      ]
    },
    {
      "cell_type": "code",
      "execution_count": 2,
      "metadata": {
        "id": "NglPzXHVJuel"
      },
      "outputs": [],
      "source": [
        "import numpy as np\n",
        "import pandas as pd"
      ]
    },
    {
      "cell_type": "code",
      "execution_count": 3,
      "metadata": {
        "id": "05EZtsrlKith"
      },
      "outputs": [],
      "source": [
        "df = pd.read_csv(\"/content/gdrive/MyDrive/Music Rec/spotify.csv\", sep=\",\")"
      ]
    },
    {
      "cell_type": "code",
      "execution_count": 4,
      "metadata": {
        "colab": {
          "base_uri": "https://localhost:8080/"
        },
        "id": "05T18jjVKyU2",
        "outputId": "33c7c0d9-52d5-4795-b072-460abaef6af8"
      },
      "outputs": [
        {
          "output_type": "execute_result",
          "data": {
            "text/plain": [
              "(174389, 19)"
            ]
          },
          "metadata": {},
          "execution_count": 4
        }
      ],
      "source": [
        "df.shape"
      ]
    },
    {
      "cell_type": "code",
      "execution_count": 5,
      "metadata": {
        "colab": {
          "base_uri": "https://localhost:8080/",
          "height": 461
        },
        "id": "lz7W7TxNK0YX",
        "outputId": "608108af-5000-4206-d1db-fa1e3f475ed2"
      },
      "outputs": [
        {
          "output_type": "execute_result",
          "data": {
            "text/plain": [
              "   acousticness                    artists  danceability  duration_ms  energy  \\\n",
              "0      0.991000            ['Mamie Smith']         0.598       168333   0.224   \n",
              "1      0.643000  [\"Screamin' Jay Hawkins\"]         0.852       150200   0.517   \n",
              "2      0.993000            ['Mamie Smith']         0.647       163827   0.186   \n",
              "3      0.000173        ['Oscar Velazquez']         0.730       422087   0.798   \n",
              "4      0.295000                   ['Mixe']         0.704       165224   0.707   \n",
              "\n",
              "   explicit                      id  instrumentalness  key  liveness  \\\n",
              "0         0  0cS0A1fUEUd1EW3FcF8AEI          0.000522    5    0.3790   \n",
              "1         0  0hbkKFIJm7Z05H8Zl9w30f          0.026400    5    0.0809   \n",
              "2         0  11m7laMUgmOKqI3oYzuhne          0.000018    0    0.5190   \n",
              "3         0  19Lc5SfJJ5O1oaxY0fpwfh          0.801000    2    0.1280   \n",
              "4         1  2hJjbsLCytGsnAHfdsLejp          0.000246   10    0.4020   \n",
              "\n",
              "   loudness  mode                                               name  \\\n",
              "0   -12.628     0                           Keep A Song In Your Soul   \n",
              "1    -7.261     0                               I Put A Spell On You   \n",
              "2   -12.098     1                                       Golfing Papa   \n",
              "3    -7.311     1  True House Music - Xavier Santos & Carlos Gomi...   \n",
              "4    -6.036     0                                          Xuniverxe   \n",
              "\n",
              "   popularity release_date  speechiness    tempo  valence  year  \n",
              "0          12         1920       0.0936  149.976   0.6340  1920  \n",
              "1           7   1920-01-05       0.0534   86.889   0.9500  1920  \n",
              "2           4         1920       0.1740   97.600   0.6890  1920  \n",
              "3          17   1920-01-01       0.0425  127.997   0.0422  1920  \n",
              "4           2   1920-10-01       0.0768  122.076   0.2990  1920  "
            ],
            "text/html": [
              "\n",
              "  <div id=\"df-747f66e5-09e4-4dd6-9b68-cb8de599d224\">\n",
              "    <div class=\"colab-df-container\">\n",
              "      <div>\n",
              "<style scoped>\n",
              "    .dataframe tbody tr th:only-of-type {\n",
              "        vertical-align: middle;\n",
              "    }\n",
              "\n",
              "    .dataframe tbody tr th {\n",
              "        vertical-align: top;\n",
              "    }\n",
              "\n",
              "    .dataframe thead th {\n",
              "        text-align: right;\n",
              "    }\n",
              "</style>\n",
              "<table border=\"1\" class=\"dataframe\">\n",
              "  <thead>\n",
              "    <tr style=\"text-align: right;\">\n",
              "      <th></th>\n",
              "      <th>acousticness</th>\n",
              "      <th>artists</th>\n",
              "      <th>danceability</th>\n",
              "      <th>duration_ms</th>\n",
              "      <th>energy</th>\n",
              "      <th>explicit</th>\n",
              "      <th>id</th>\n",
              "      <th>instrumentalness</th>\n",
              "      <th>key</th>\n",
              "      <th>liveness</th>\n",
              "      <th>loudness</th>\n",
              "      <th>mode</th>\n",
              "      <th>name</th>\n",
              "      <th>popularity</th>\n",
              "      <th>release_date</th>\n",
              "      <th>speechiness</th>\n",
              "      <th>tempo</th>\n",
              "      <th>valence</th>\n",
              "      <th>year</th>\n",
              "    </tr>\n",
              "  </thead>\n",
              "  <tbody>\n",
              "    <tr>\n",
              "      <th>0</th>\n",
              "      <td>0.991000</td>\n",
              "      <td>['Mamie Smith']</td>\n",
              "      <td>0.598</td>\n",
              "      <td>168333</td>\n",
              "      <td>0.224</td>\n",
              "      <td>0</td>\n",
              "      <td>0cS0A1fUEUd1EW3FcF8AEI</td>\n",
              "      <td>0.000522</td>\n",
              "      <td>5</td>\n",
              "      <td>0.3790</td>\n",
              "      <td>-12.628</td>\n",
              "      <td>0</td>\n",
              "      <td>Keep A Song In Your Soul</td>\n",
              "      <td>12</td>\n",
              "      <td>1920</td>\n",
              "      <td>0.0936</td>\n",
              "      <td>149.976</td>\n",
              "      <td>0.6340</td>\n",
              "      <td>1920</td>\n",
              "    </tr>\n",
              "    <tr>\n",
              "      <th>1</th>\n",
              "      <td>0.643000</td>\n",
              "      <td>[\"Screamin' Jay Hawkins\"]</td>\n",
              "      <td>0.852</td>\n",
              "      <td>150200</td>\n",
              "      <td>0.517</td>\n",
              "      <td>0</td>\n",
              "      <td>0hbkKFIJm7Z05H8Zl9w30f</td>\n",
              "      <td>0.026400</td>\n",
              "      <td>5</td>\n",
              "      <td>0.0809</td>\n",
              "      <td>-7.261</td>\n",
              "      <td>0</td>\n",
              "      <td>I Put A Spell On You</td>\n",
              "      <td>7</td>\n",
              "      <td>1920-01-05</td>\n",
              "      <td>0.0534</td>\n",
              "      <td>86.889</td>\n",
              "      <td>0.9500</td>\n",
              "      <td>1920</td>\n",
              "    </tr>\n",
              "    <tr>\n",
              "      <th>2</th>\n",
              "      <td>0.993000</td>\n",
              "      <td>['Mamie Smith']</td>\n",
              "      <td>0.647</td>\n",
              "      <td>163827</td>\n",
              "      <td>0.186</td>\n",
              "      <td>0</td>\n",
              "      <td>11m7laMUgmOKqI3oYzuhne</td>\n",
              "      <td>0.000018</td>\n",
              "      <td>0</td>\n",
              "      <td>0.5190</td>\n",
              "      <td>-12.098</td>\n",
              "      <td>1</td>\n",
              "      <td>Golfing Papa</td>\n",
              "      <td>4</td>\n",
              "      <td>1920</td>\n",
              "      <td>0.1740</td>\n",
              "      <td>97.600</td>\n",
              "      <td>0.6890</td>\n",
              "      <td>1920</td>\n",
              "    </tr>\n",
              "    <tr>\n",
              "      <th>3</th>\n",
              "      <td>0.000173</td>\n",
              "      <td>['Oscar Velazquez']</td>\n",
              "      <td>0.730</td>\n",
              "      <td>422087</td>\n",
              "      <td>0.798</td>\n",
              "      <td>0</td>\n",
              "      <td>19Lc5SfJJ5O1oaxY0fpwfh</td>\n",
              "      <td>0.801000</td>\n",
              "      <td>2</td>\n",
              "      <td>0.1280</td>\n",
              "      <td>-7.311</td>\n",
              "      <td>1</td>\n",
              "      <td>True House Music - Xavier Santos &amp; Carlos Gomi...</td>\n",
              "      <td>17</td>\n",
              "      <td>1920-01-01</td>\n",
              "      <td>0.0425</td>\n",
              "      <td>127.997</td>\n",
              "      <td>0.0422</td>\n",
              "      <td>1920</td>\n",
              "    </tr>\n",
              "    <tr>\n",
              "      <th>4</th>\n",
              "      <td>0.295000</td>\n",
              "      <td>['Mixe']</td>\n",
              "      <td>0.704</td>\n",
              "      <td>165224</td>\n",
              "      <td>0.707</td>\n",
              "      <td>1</td>\n",
              "      <td>2hJjbsLCytGsnAHfdsLejp</td>\n",
              "      <td>0.000246</td>\n",
              "      <td>10</td>\n",
              "      <td>0.4020</td>\n",
              "      <td>-6.036</td>\n",
              "      <td>0</td>\n",
              "      <td>Xuniverxe</td>\n",
              "      <td>2</td>\n",
              "      <td>1920-10-01</td>\n",
              "      <td>0.0768</td>\n",
              "      <td>122.076</td>\n",
              "      <td>0.2990</td>\n",
              "      <td>1920</td>\n",
              "    </tr>\n",
              "  </tbody>\n",
              "</table>\n",
              "</div>\n",
              "      <button class=\"colab-df-convert\" onclick=\"convertToInteractive('df-747f66e5-09e4-4dd6-9b68-cb8de599d224')\"\n",
              "              title=\"Convert this dataframe to an interactive table.\"\n",
              "              style=\"display:none;\">\n",
              "        \n",
              "  <svg xmlns=\"http://www.w3.org/2000/svg\" height=\"24px\"viewBox=\"0 0 24 24\"\n",
              "       width=\"24px\">\n",
              "    <path d=\"M0 0h24v24H0V0z\" fill=\"none\"/>\n",
              "    <path d=\"M18.56 5.44l.94 2.06.94-2.06 2.06-.94-2.06-.94-.94-2.06-.94 2.06-2.06.94zm-11 1L8.5 8.5l.94-2.06 2.06-.94-2.06-.94L8.5 2.5l-.94 2.06-2.06.94zm10 10l.94 2.06.94-2.06 2.06-.94-2.06-.94-.94-2.06-.94 2.06-2.06.94z\"/><path d=\"M17.41 7.96l-1.37-1.37c-.4-.4-.92-.59-1.43-.59-.52 0-1.04.2-1.43.59L10.3 9.45l-7.72 7.72c-.78.78-.78 2.05 0 2.83L4 21.41c.39.39.9.59 1.41.59.51 0 1.02-.2 1.41-.59l7.78-7.78 2.81-2.81c.8-.78.8-2.07 0-2.86zM5.41 20L4 18.59l7.72-7.72 1.47 1.35L5.41 20z\"/>\n",
              "  </svg>\n",
              "      </button>\n",
              "      \n",
              "  <style>\n",
              "    .colab-df-container {\n",
              "      display:flex;\n",
              "      flex-wrap:wrap;\n",
              "      gap: 12px;\n",
              "    }\n",
              "\n",
              "    .colab-df-convert {\n",
              "      background-color: #E8F0FE;\n",
              "      border: none;\n",
              "      border-radius: 50%;\n",
              "      cursor: pointer;\n",
              "      display: none;\n",
              "      fill: #1967D2;\n",
              "      height: 32px;\n",
              "      padding: 0 0 0 0;\n",
              "      width: 32px;\n",
              "    }\n",
              "\n",
              "    .colab-df-convert:hover {\n",
              "      background-color: #E2EBFA;\n",
              "      box-shadow: 0px 1px 2px rgba(60, 64, 67, 0.3), 0px 1px 3px 1px rgba(60, 64, 67, 0.15);\n",
              "      fill: #174EA6;\n",
              "    }\n",
              "\n",
              "    [theme=dark] .colab-df-convert {\n",
              "      background-color: #3B4455;\n",
              "      fill: #D2E3FC;\n",
              "    }\n",
              "\n",
              "    [theme=dark] .colab-df-convert:hover {\n",
              "      background-color: #434B5C;\n",
              "      box-shadow: 0px 1px 3px 1px rgba(0, 0, 0, 0.15);\n",
              "      filter: drop-shadow(0px 1px 2px rgba(0, 0, 0, 0.3));\n",
              "      fill: #FFFFFF;\n",
              "    }\n",
              "  </style>\n",
              "\n",
              "      <script>\n",
              "        const buttonEl =\n",
              "          document.querySelector('#df-747f66e5-09e4-4dd6-9b68-cb8de599d224 button.colab-df-convert');\n",
              "        buttonEl.style.display =\n",
              "          google.colab.kernel.accessAllowed ? 'block' : 'none';\n",
              "\n",
              "        async function convertToInteractive(key) {\n",
              "          const element = document.querySelector('#df-747f66e5-09e4-4dd6-9b68-cb8de599d224');\n",
              "          const dataTable =\n",
              "            await google.colab.kernel.invokeFunction('convertToInteractive',\n",
              "                                                     [key], {});\n",
              "          if (!dataTable) return;\n",
              "\n",
              "          const docLinkHtml = 'Like what you see? Visit the ' +\n",
              "            '<a target=\"_blank\" href=https://colab.research.google.com/notebooks/data_table.ipynb>data table notebook</a>'\n",
              "            + ' to learn more about interactive tables.';\n",
              "          element.innerHTML = '';\n",
              "          dataTable['output_type'] = 'display_data';\n",
              "          await google.colab.output.renderOutput(dataTable, element);\n",
              "          const docLink = document.createElement('div');\n",
              "          docLink.innerHTML = docLinkHtml;\n",
              "          element.appendChild(docLink);\n",
              "        }\n",
              "      </script>\n",
              "    </div>\n",
              "  </div>\n",
              "  "
            ]
          },
          "metadata": {},
          "execution_count": 5
        }
      ],
      "source": [
        "df.head()"
      ]
    },
    {
      "cell_type": "code",
      "execution_count": 6,
      "metadata": {
        "colab": {
          "base_uri": "https://localhost:8080/"
        },
        "id": "IUiuoVi6K_fZ",
        "outputId": "b89cbd34-c711-4b58-ec83-140ab06723c1"
      },
      "outputs": [
        {
          "output_type": "execute_result",
          "data": {
            "text/plain": [
              "acousticness        0\n",
              "artists             0\n",
              "danceability        0\n",
              "duration_ms         0\n",
              "energy              0\n",
              "explicit            0\n",
              "id                  0\n",
              "instrumentalness    0\n",
              "key                 0\n",
              "liveness            0\n",
              "loudness            0\n",
              "mode                0\n",
              "name                0\n",
              "popularity          0\n",
              "release_date        0\n",
              "speechiness         0\n",
              "tempo               0\n",
              "valence             0\n",
              "year                0\n",
              "dtype: int64"
            ]
          },
          "metadata": {},
          "execution_count": 6
        }
      ],
      "source": [
        "df.isna().sum()"
      ]
    },
    {
      "cell_type": "code",
      "execution_count": 7,
      "metadata": {
        "id": "or1ytmmHMP3v"
      },
      "outputs": [],
      "source": [
        "df = df[[\"id\", \"acousticness\", \"energy\", \"danceability\", \"instrumentalness\", \"liveness\", \"loudness\", \"speechiness\", \"tempo\", \"valence\"]]"
      ]
    },
    {
      "cell_type": "code",
      "execution_count": 8,
      "metadata": {
        "colab": {
          "base_uri": "https://localhost:8080/"
        },
        "id": "jCnVnSx3N_wc",
        "outputId": "ea9fd33e-d583-4378-98ce-5912ddafd74a"
      },
      "outputs": [
        {
          "output_type": "execute_result",
          "data": {
            "text/plain": [
              "(174389, 10)"
            ]
          },
          "metadata": {},
          "execution_count": 8
        }
      ],
      "source": [
        "df.shape"
      ]
    },
    {
      "cell_type": "code",
      "execution_count": 9,
      "metadata": {
        "colab": {
          "base_uri": "https://localhost:8080/",
          "height": 206
        },
        "id": "uqlx5mS5OA9q",
        "outputId": "29e5a30b-0ddd-4327-8d94-71e0304c2a6f"
      },
      "outputs": [
        {
          "output_type": "execute_result",
          "data": {
            "text/plain": [
              "                       id  acousticness  energy  danceability  \\\n",
              "0  0cS0A1fUEUd1EW3FcF8AEI      0.991000   0.224         0.598   \n",
              "1  0hbkKFIJm7Z05H8Zl9w30f      0.643000   0.517         0.852   \n",
              "2  11m7laMUgmOKqI3oYzuhne      0.993000   0.186         0.647   \n",
              "3  19Lc5SfJJ5O1oaxY0fpwfh      0.000173   0.798         0.730   \n",
              "4  2hJjbsLCytGsnAHfdsLejp      0.295000   0.707         0.704   \n",
              "\n",
              "   instrumentalness  liveness  loudness  speechiness    tempo  valence  \n",
              "0          0.000522    0.3790   -12.628       0.0936  149.976   0.6340  \n",
              "1          0.026400    0.0809    -7.261       0.0534   86.889   0.9500  \n",
              "2          0.000018    0.5190   -12.098       0.1740   97.600   0.6890  \n",
              "3          0.801000    0.1280    -7.311       0.0425  127.997   0.0422  \n",
              "4          0.000246    0.4020    -6.036       0.0768  122.076   0.2990  "
            ],
            "text/html": [
              "\n",
              "  <div id=\"df-68c171dc-2289-4449-bce1-796c99175142\">\n",
              "    <div class=\"colab-df-container\">\n",
              "      <div>\n",
              "<style scoped>\n",
              "    .dataframe tbody tr th:only-of-type {\n",
              "        vertical-align: middle;\n",
              "    }\n",
              "\n",
              "    .dataframe tbody tr th {\n",
              "        vertical-align: top;\n",
              "    }\n",
              "\n",
              "    .dataframe thead th {\n",
              "        text-align: right;\n",
              "    }\n",
              "</style>\n",
              "<table border=\"1\" class=\"dataframe\">\n",
              "  <thead>\n",
              "    <tr style=\"text-align: right;\">\n",
              "      <th></th>\n",
              "      <th>id</th>\n",
              "      <th>acousticness</th>\n",
              "      <th>energy</th>\n",
              "      <th>danceability</th>\n",
              "      <th>instrumentalness</th>\n",
              "      <th>liveness</th>\n",
              "      <th>loudness</th>\n",
              "      <th>speechiness</th>\n",
              "      <th>tempo</th>\n",
              "      <th>valence</th>\n",
              "    </tr>\n",
              "  </thead>\n",
              "  <tbody>\n",
              "    <tr>\n",
              "      <th>0</th>\n",
              "      <td>0cS0A1fUEUd1EW3FcF8AEI</td>\n",
              "      <td>0.991000</td>\n",
              "      <td>0.224</td>\n",
              "      <td>0.598</td>\n",
              "      <td>0.000522</td>\n",
              "      <td>0.3790</td>\n",
              "      <td>-12.628</td>\n",
              "      <td>0.0936</td>\n",
              "      <td>149.976</td>\n",
              "      <td>0.6340</td>\n",
              "    </tr>\n",
              "    <tr>\n",
              "      <th>1</th>\n",
              "      <td>0hbkKFIJm7Z05H8Zl9w30f</td>\n",
              "      <td>0.643000</td>\n",
              "      <td>0.517</td>\n",
              "      <td>0.852</td>\n",
              "      <td>0.026400</td>\n",
              "      <td>0.0809</td>\n",
              "      <td>-7.261</td>\n",
              "      <td>0.0534</td>\n",
              "      <td>86.889</td>\n",
              "      <td>0.9500</td>\n",
              "    </tr>\n",
              "    <tr>\n",
              "      <th>2</th>\n",
              "      <td>11m7laMUgmOKqI3oYzuhne</td>\n",
              "      <td>0.993000</td>\n",
              "      <td>0.186</td>\n",
              "      <td>0.647</td>\n",
              "      <td>0.000018</td>\n",
              "      <td>0.5190</td>\n",
              "      <td>-12.098</td>\n",
              "      <td>0.1740</td>\n",
              "      <td>97.600</td>\n",
              "      <td>0.6890</td>\n",
              "    </tr>\n",
              "    <tr>\n",
              "      <th>3</th>\n",
              "      <td>19Lc5SfJJ5O1oaxY0fpwfh</td>\n",
              "      <td>0.000173</td>\n",
              "      <td>0.798</td>\n",
              "      <td>0.730</td>\n",
              "      <td>0.801000</td>\n",
              "      <td>0.1280</td>\n",
              "      <td>-7.311</td>\n",
              "      <td>0.0425</td>\n",
              "      <td>127.997</td>\n",
              "      <td>0.0422</td>\n",
              "    </tr>\n",
              "    <tr>\n",
              "      <th>4</th>\n",
              "      <td>2hJjbsLCytGsnAHfdsLejp</td>\n",
              "      <td>0.295000</td>\n",
              "      <td>0.707</td>\n",
              "      <td>0.704</td>\n",
              "      <td>0.000246</td>\n",
              "      <td>0.4020</td>\n",
              "      <td>-6.036</td>\n",
              "      <td>0.0768</td>\n",
              "      <td>122.076</td>\n",
              "      <td>0.2990</td>\n",
              "    </tr>\n",
              "  </tbody>\n",
              "</table>\n",
              "</div>\n",
              "      <button class=\"colab-df-convert\" onclick=\"convertToInteractive('df-68c171dc-2289-4449-bce1-796c99175142')\"\n",
              "              title=\"Convert this dataframe to an interactive table.\"\n",
              "              style=\"display:none;\">\n",
              "        \n",
              "  <svg xmlns=\"http://www.w3.org/2000/svg\" height=\"24px\"viewBox=\"0 0 24 24\"\n",
              "       width=\"24px\">\n",
              "    <path d=\"M0 0h24v24H0V0z\" fill=\"none\"/>\n",
              "    <path d=\"M18.56 5.44l.94 2.06.94-2.06 2.06-.94-2.06-.94-.94-2.06-.94 2.06-2.06.94zm-11 1L8.5 8.5l.94-2.06 2.06-.94-2.06-.94L8.5 2.5l-.94 2.06-2.06.94zm10 10l.94 2.06.94-2.06 2.06-.94-2.06-.94-.94-2.06-.94 2.06-2.06.94z\"/><path d=\"M17.41 7.96l-1.37-1.37c-.4-.4-.92-.59-1.43-.59-.52 0-1.04.2-1.43.59L10.3 9.45l-7.72 7.72c-.78.78-.78 2.05 0 2.83L4 21.41c.39.39.9.59 1.41.59.51 0 1.02-.2 1.41-.59l7.78-7.78 2.81-2.81c.8-.78.8-2.07 0-2.86zM5.41 20L4 18.59l7.72-7.72 1.47 1.35L5.41 20z\"/>\n",
              "  </svg>\n",
              "      </button>\n",
              "      \n",
              "  <style>\n",
              "    .colab-df-container {\n",
              "      display:flex;\n",
              "      flex-wrap:wrap;\n",
              "      gap: 12px;\n",
              "    }\n",
              "\n",
              "    .colab-df-convert {\n",
              "      background-color: #E8F0FE;\n",
              "      border: none;\n",
              "      border-radius: 50%;\n",
              "      cursor: pointer;\n",
              "      display: none;\n",
              "      fill: #1967D2;\n",
              "      height: 32px;\n",
              "      padding: 0 0 0 0;\n",
              "      width: 32px;\n",
              "    }\n",
              "\n",
              "    .colab-df-convert:hover {\n",
              "      background-color: #E2EBFA;\n",
              "      box-shadow: 0px 1px 2px rgba(60, 64, 67, 0.3), 0px 1px 3px 1px rgba(60, 64, 67, 0.15);\n",
              "      fill: #174EA6;\n",
              "    }\n",
              "\n",
              "    [theme=dark] .colab-df-convert {\n",
              "      background-color: #3B4455;\n",
              "      fill: #D2E3FC;\n",
              "    }\n",
              "\n",
              "    [theme=dark] .colab-df-convert:hover {\n",
              "      background-color: #434B5C;\n",
              "      box-shadow: 0px 1px 3px 1px rgba(0, 0, 0, 0.15);\n",
              "      filter: drop-shadow(0px 1px 2px rgba(0, 0, 0, 0.3));\n",
              "      fill: #FFFFFF;\n",
              "    }\n",
              "  </style>\n",
              "\n",
              "      <script>\n",
              "        const buttonEl =\n",
              "          document.querySelector('#df-68c171dc-2289-4449-bce1-796c99175142 button.colab-df-convert');\n",
              "        buttonEl.style.display =\n",
              "          google.colab.kernel.accessAllowed ? 'block' : 'none';\n",
              "\n",
              "        async function convertToInteractive(key) {\n",
              "          const element = document.querySelector('#df-68c171dc-2289-4449-bce1-796c99175142');\n",
              "          const dataTable =\n",
              "            await google.colab.kernel.invokeFunction('convertToInteractive',\n",
              "                                                     [key], {});\n",
              "          if (!dataTable) return;\n",
              "\n",
              "          const docLinkHtml = 'Like what you see? Visit the ' +\n",
              "            '<a target=\"_blank\" href=https://colab.research.google.com/notebooks/data_table.ipynb>data table notebook</a>'\n",
              "            + ' to learn more about interactive tables.';\n",
              "          element.innerHTML = '';\n",
              "          dataTable['output_type'] = 'display_data';\n",
              "          await google.colab.output.renderOutput(dataTable, element);\n",
              "          const docLink = document.createElement('div');\n",
              "          docLink.innerHTML = docLinkHtml;\n",
              "          element.appendChild(docLink);\n",
              "        }\n",
              "      </script>\n",
              "    </div>\n",
              "  </div>\n",
              "  "
            ]
          },
          "metadata": {},
          "execution_count": 9
        }
      ],
      "source": [
        "df.head()"
      ]
    },
    {
      "cell_type": "code",
      "execution_count": 10,
      "metadata": {
        "colab": {
          "base_uri": "https://localhost:8080/",
          "height": 300
        },
        "id": "Pv3y8lZ-OE7o",
        "outputId": "1a6e1637-7576-4025-cc72-c2cf268b6416"
      },
      "outputs": [
        {
          "output_type": "execute_result",
          "data": {
            "text/plain": [
              "        acousticness         energy   danceability  instrumentalness  \\\n",
              "count  174389.000000  174389.000000  174389.000000     174389.000000   \n",
              "mean        0.499228       0.482721       0.536758          0.197252   \n",
              "std         0.379936       0.272685       0.176025          0.334574   \n",
              "min         0.000000       0.000000       0.000000          0.000000   \n",
              "25%         0.087700       0.249000       0.414000          0.000000   \n",
              "50%         0.517000       0.465000       0.548000          0.000524   \n",
              "75%         0.895000       0.711000       0.669000          0.252000   \n",
              "max         0.996000       1.000000       0.988000          1.000000   \n",
              "\n",
              "            liveness       loudness    speechiness          tempo  \\\n",
              "count  174389.000000  174389.000000  174389.000000  174389.000000   \n",
              "mean        0.211123     -11.750865       0.105729     117.006500   \n",
              "std         0.180493       5.691591       0.182260      30.254178   \n",
              "min         0.000000     -60.000000       0.000000       0.000000   \n",
              "25%         0.099200     -14.908000       0.035200      93.931000   \n",
              "50%         0.138000     -10.836000       0.045500     115.816000   \n",
              "75%         0.270000      -7.499000       0.076300     135.011000   \n",
              "max         1.000000       3.855000       0.971000     243.507000   \n",
              "\n",
              "             valence  \n",
              "count  174389.000000  \n",
              "mean        0.524533  \n",
              "std         0.264477  \n",
              "min         0.000000  \n",
              "25%         0.311000  \n",
              "50%         0.536000  \n",
              "75%         0.743000  \n",
              "max         1.000000  "
            ],
            "text/html": [
              "\n",
              "  <div id=\"df-6e5cbe72-9d5c-4b16-935f-17c7351a1b8c\">\n",
              "    <div class=\"colab-df-container\">\n",
              "      <div>\n",
              "<style scoped>\n",
              "    .dataframe tbody tr th:only-of-type {\n",
              "        vertical-align: middle;\n",
              "    }\n",
              "\n",
              "    .dataframe tbody tr th {\n",
              "        vertical-align: top;\n",
              "    }\n",
              "\n",
              "    .dataframe thead th {\n",
              "        text-align: right;\n",
              "    }\n",
              "</style>\n",
              "<table border=\"1\" class=\"dataframe\">\n",
              "  <thead>\n",
              "    <tr style=\"text-align: right;\">\n",
              "      <th></th>\n",
              "      <th>acousticness</th>\n",
              "      <th>energy</th>\n",
              "      <th>danceability</th>\n",
              "      <th>instrumentalness</th>\n",
              "      <th>liveness</th>\n",
              "      <th>loudness</th>\n",
              "      <th>speechiness</th>\n",
              "      <th>tempo</th>\n",
              "      <th>valence</th>\n",
              "    </tr>\n",
              "  </thead>\n",
              "  <tbody>\n",
              "    <tr>\n",
              "      <th>count</th>\n",
              "      <td>174389.000000</td>\n",
              "      <td>174389.000000</td>\n",
              "      <td>174389.000000</td>\n",
              "      <td>174389.000000</td>\n",
              "      <td>174389.000000</td>\n",
              "      <td>174389.000000</td>\n",
              "      <td>174389.000000</td>\n",
              "      <td>174389.000000</td>\n",
              "      <td>174389.000000</td>\n",
              "    </tr>\n",
              "    <tr>\n",
              "      <th>mean</th>\n",
              "      <td>0.499228</td>\n",
              "      <td>0.482721</td>\n",
              "      <td>0.536758</td>\n",
              "      <td>0.197252</td>\n",
              "      <td>0.211123</td>\n",
              "      <td>-11.750865</td>\n",
              "      <td>0.105729</td>\n",
              "      <td>117.006500</td>\n",
              "      <td>0.524533</td>\n",
              "    </tr>\n",
              "    <tr>\n",
              "      <th>std</th>\n",
              "      <td>0.379936</td>\n",
              "      <td>0.272685</td>\n",
              "      <td>0.176025</td>\n",
              "      <td>0.334574</td>\n",
              "      <td>0.180493</td>\n",
              "      <td>5.691591</td>\n",
              "      <td>0.182260</td>\n",
              "      <td>30.254178</td>\n",
              "      <td>0.264477</td>\n",
              "    </tr>\n",
              "    <tr>\n",
              "      <th>min</th>\n",
              "      <td>0.000000</td>\n",
              "      <td>0.000000</td>\n",
              "      <td>0.000000</td>\n",
              "      <td>0.000000</td>\n",
              "      <td>0.000000</td>\n",
              "      <td>-60.000000</td>\n",
              "      <td>0.000000</td>\n",
              "      <td>0.000000</td>\n",
              "      <td>0.000000</td>\n",
              "    </tr>\n",
              "    <tr>\n",
              "      <th>25%</th>\n",
              "      <td>0.087700</td>\n",
              "      <td>0.249000</td>\n",
              "      <td>0.414000</td>\n",
              "      <td>0.000000</td>\n",
              "      <td>0.099200</td>\n",
              "      <td>-14.908000</td>\n",
              "      <td>0.035200</td>\n",
              "      <td>93.931000</td>\n",
              "      <td>0.311000</td>\n",
              "    </tr>\n",
              "    <tr>\n",
              "      <th>50%</th>\n",
              "      <td>0.517000</td>\n",
              "      <td>0.465000</td>\n",
              "      <td>0.548000</td>\n",
              "      <td>0.000524</td>\n",
              "      <td>0.138000</td>\n",
              "      <td>-10.836000</td>\n",
              "      <td>0.045500</td>\n",
              "      <td>115.816000</td>\n",
              "      <td>0.536000</td>\n",
              "    </tr>\n",
              "    <tr>\n",
              "      <th>75%</th>\n",
              "      <td>0.895000</td>\n",
              "      <td>0.711000</td>\n",
              "      <td>0.669000</td>\n",
              "      <td>0.252000</td>\n",
              "      <td>0.270000</td>\n",
              "      <td>-7.499000</td>\n",
              "      <td>0.076300</td>\n",
              "      <td>135.011000</td>\n",
              "      <td>0.743000</td>\n",
              "    </tr>\n",
              "    <tr>\n",
              "      <th>max</th>\n",
              "      <td>0.996000</td>\n",
              "      <td>1.000000</td>\n",
              "      <td>0.988000</td>\n",
              "      <td>1.000000</td>\n",
              "      <td>1.000000</td>\n",
              "      <td>3.855000</td>\n",
              "      <td>0.971000</td>\n",
              "      <td>243.507000</td>\n",
              "      <td>1.000000</td>\n",
              "    </tr>\n",
              "  </tbody>\n",
              "</table>\n",
              "</div>\n",
              "      <button class=\"colab-df-convert\" onclick=\"convertToInteractive('df-6e5cbe72-9d5c-4b16-935f-17c7351a1b8c')\"\n",
              "              title=\"Convert this dataframe to an interactive table.\"\n",
              "              style=\"display:none;\">\n",
              "        \n",
              "  <svg xmlns=\"http://www.w3.org/2000/svg\" height=\"24px\"viewBox=\"0 0 24 24\"\n",
              "       width=\"24px\">\n",
              "    <path d=\"M0 0h24v24H0V0z\" fill=\"none\"/>\n",
              "    <path d=\"M18.56 5.44l.94 2.06.94-2.06 2.06-.94-2.06-.94-.94-2.06-.94 2.06-2.06.94zm-11 1L8.5 8.5l.94-2.06 2.06-.94-2.06-.94L8.5 2.5l-.94 2.06-2.06.94zm10 10l.94 2.06.94-2.06 2.06-.94-2.06-.94-.94-2.06-.94 2.06-2.06.94z\"/><path d=\"M17.41 7.96l-1.37-1.37c-.4-.4-.92-.59-1.43-.59-.52 0-1.04.2-1.43.59L10.3 9.45l-7.72 7.72c-.78.78-.78 2.05 0 2.83L4 21.41c.39.39.9.59 1.41.59.51 0 1.02-.2 1.41-.59l7.78-7.78 2.81-2.81c.8-.78.8-2.07 0-2.86zM5.41 20L4 18.59l7.72-7.72 1.47 1.35L5.41 20z\"/>\n",
              "  </svg>\n",
              "      </button>\n",
              "      \n",
              "  <style>\n",
              "    .colab-df-container {\n",
              "      display:flex;\n",
              "      flex-wrap:wrap;\n",
              "      gap: 12px;\n",
              "    }\n",
              "\n",
              "    .colab-df-convert {\n",
              "      background-color: #E8F0FE;\n",
              "      border: none;\n",
              "      border-radius: 50%;\n",
              "      cursor: pointer;\n",
              "      display: none;\n",
              "      fill: #1967D2;\n",
              "      height: 32px;\n",
              "      padding: 0 0 0 0;\n",
              "      width: 32px;\n",
              "    }\n",
              "\n",
              "    .colab-df-convert:hover {\n",
              "      background-color: #E2EBFA;\n",
              "      box-shadow: 0px 1px 2px rgba(60, 64, 67, 0.3), 0px 1px 3px 1px rgba(60, 64, 67, 0.15);\n",
              "      fill: #174EA6;\n",
              "    }\n",
              "\n",
              "    [theme=dark] .colab-df-convert {\n",
              "      background-color: #3B4455;\n",
              "      fill: #D2E3FC;\n",
              "    }\n",
              "\n",
              "    [theme=dark] .colab-df-convert:hover {\n",
              "      background-color: #434B5C;\n",
              "      box-shadow: 0px 1px 3px 1px rgba(0, 0, 0, 0.15);\n",
              "      filter: drop-shadow(0px 1px 2px rgba(0, 0, 0, 0.3));\n",
              "      fill: #FFFFFF;\n",
              "    }\n",
              "  </style>\n",
              "\n",
              "      <script>\n",
              "        const buttonEl =\n",
              "          document.querySelector('#df-6e5cbe72-9d5c-4b16-935f-17c7351a1b8c button.colab-df-convert');\n",
              "        buttonEl.style.display =\n",
              "          google.colab.kernel.accessAllowed ? 'block' : 'none';\n",
              "\n",
              "        async function convertToInteractive(key) {\n",
              "          const element = document.querySelector('#df-6e5cbe72-9d5c-4b16-935f-17c7351a1b8c');\n",
              "          const dataTable =\n",
              "            await google.colab.kernel.invokeFunction('convertToInteractive',\n",
              "                                                     [key], {});\n",
              "          if (!dataTable) return;\n",
              "\n",
              "          const docLinkHtml = 'Like what you see? Visit the ' +\n",
              "            '<a target=\"_blank\" href=https://colab.research.google.com/notebooks/data_table.ipynb>data table notebook</a>'\n",
              "            + ' to learn more about interactive tables.';\n",
              "          element.innerHTML = '';\n",
              "          dataTable['output_type'] = 'display_data';\n",
              "          await google.colab.output.renderOutput(dataTable, element);\n",
              "          const docLink = document.createElement('div');\n",
              "          docLink.innerHTML = docLinkHtml;\n",
              "          element.appendChild(docLink);\n",
              "        }\n",
              "      </script>\n",
              "    </div>\n",
              "  </div>\n",
              "  "
            ]
          },
          "metadata": {},
          "execution_count": 10
        }
      ],
      "source": [
        "df.describe()"
      ]
    },
    {
      "cell_type": "code",
      "execution_count": 11,
      "metadata": {
        "colab": {
          "base_uri": "https://localhost:8080/"
        },
        "id": "O4ptbZ1cih4f",
        "outputId": "9fcbe4bc-07d5-4de5-8cc3-7cf1abc07554"
      },
      "outputs": [
        {
          "output_type": "stream",
          "name": "stdout",
          "text": [
            "<class 'pandas.core.frame.DataFrame'>\n",
            "RangeIndex: 174389 entries, 0 to 174388\n",
            "Data columns (total 10 columns):\n",
            " #   Column            Non-Null Count   Dtype  \n",
            "---  ------            --------------   -----  \n",
            " 0   id                174389 non-null  object \n",
            " 1   acousticness      174389 non-null  float64\n",
            " 2   energy            174389 non-null  float64\n",
            " 3   danceability      174389 non-null  float64\n",
            " 4   instrumentalness  174389 non-null  float64\n",
            " 5   liveness          174389 non-null  float64\n",
            " 6   loudness          174389 non-null  float64\n",
            " 7   speechiness       174389 non-null  float64\n",
            " 8   tempo             174389 non-null  float64\n",
            " 9   valence           174389 non-null  float64\n",
            "dtypes: float64(9), object(1)\n",
            "memory usage: 13.3+ MB\n"
          ]
        }
      ],
      "source": [
        "df.info()"
      ]
    },
    {
      "cell_type": "code",
      "execution_count": 12,
      "metadata": {
        "colab": {
          "base_uri": "https://localhost:8080/",
          "height": 331
        },
        "id": "7GdTRokFikk7",
        "outputId": "408453ed-7612-45dc-8070-7b73ed42c00a"
      },
      "outputs": [
        {
          "output_type": "execute_result",
          "data": {
            "text/plain": [
              "                  acousticness    energy  danceability  instrumentalness  \\\n",
              "acousticness          1.000000 -0.750852     -0.263217          0.221956   \n",
              "energy               -0.750852  1.000000      0.204838         -0.177750   \n",
              "danceability         -0.263217  0.204838      1.000000         -0.215589   \n",
              "instrumentalness      0.221956 -0.177750     -0.215589          1.000000   \n",
              "liveness             -0.029654  0.134815     -0.110033         -0.047941   \n",
              "loudness             -0.546639  0.779267      0.249541         -0.317562   \n",
              "speechiness          -0.022437 -0.112616      0.239962         -0.133966   \n",
              "tempo                -0.223840  0.266448      0.005479         -0.068656   \n",
              "valence              -0.166968  0.326418      0.536713         -0.219188   \n",
              "\n",
              "                  liveness  loudness  speechiness     tempo   valence  \n",
              "acousticness     -0.029654 -0.546639    -0.022437 -0.223840 -0.166968  \n",
              "energy            0.134815  0.779267    -0.112616  0.266448  0.326418  \n",
              "danceability     -0.110033  0.249541     0.239962  0.005479  0.536713  \n",
              "instrumentalness -0.047941 -0.317562    -0.133966 -0.068656 -0.219188  \n",
              "liveness          1.000000  0.062695     0.122034  0.008586 -0.005781  \n",
              "loudness          0.062695  1.000000    -0.213504  0.217914  0.302520  \n",
              "speechiness       0.122034 -0.213504     1.000000 -0.033530  0.050600  \n",
              "tempo             0.008586  0.217914    -0.033530  1.000000  0.163118  \n",
              "valence          -0.005781  0.302520     0.050600  0.163118  1.000000  "
            ],
            "text/html": [
              "\n",
              "  <div id=\"df-b699ca67-15d1-4b59-b57b-c969a0bb4129\">\n",
              "    <div class=\"colab-df-container\">\n",
              "      <div>\n",
              "<style scoped>\n",
              "    .dataframe tbody tr th:only-of-type {\n",
              "        vertical-align: middle;\n",
              "    }\n",
              "\n",
              "    .dataframe tbody tr th {\n",
              "        vertical-align: top;\n",
              "    }\n",
              "\n",
              "    .dataframe thead th {\n",
              "        text-align: right;\n",
              "    }\n",
              "</style>\n",
              "<table border=\"1\" class=\"dataframe\">\n",
              "  <thead>\n",
              "    <tr style=\"text-align: right;\">\n",
              "      <th></th>\n",
              "      <th>acousticness</th>\n",
              "      <th>energy</th>\n",
              "      <th>danceability</th>\n",
              "      <th>instrumentalness</th>\n",
              "      <th>liveness</th>\n",
              "      <th>loudness</th>\n",
              "      <th>speechiness</th>\n",
              "      <th>tempo</th>\n",
              "      <th>valence</th>\n",
              "    </tr>\n",
              "  </thead>\n",
              "  <tbody>\n",
              "    <tr>\n",
              "      <th>acousticness</th>\n",
              "      <td>1.000000</td>\n",
              "      <td>-0.750852</td>\n",
              "      <td>-0.263217</td>\n",
              "      <td>0.221956</td>\n",
              "      <td>-0.029654</td>\n",
              "      <td>-0.546639</td>\n",
              "      <td>-0.022437</td>\n",
              "      <td>-0.223840</td>\n",
              "      <td>-0.166968</td>\n",
              "    </tr>\n",
              "    <tr>\n",
              "      <th>energy</th>\n",
              "      <td>-0.750852</td>\n",
              "      <td>1.000000</td>\n",
              "      <td>0.204838</td>\n",
              "      <td>-0.177750</td>\n",
              "      <td>0.134815</td>\n",
              "      <td>0.779267</td>\n",
              "      <td>-0.112616</td>\n",
              "      <td>0.266448</td>\n",
              "      <td>0.326418</td>\n",
              "    </tr>\n",
              "    <tr>\n",
              "      <th>danceability</th>\n",
              "      <td>-0.263217</td>\n",
              "      <td>0.204838</td>\n",
              "      <td>1.000000</td>\n",
              "      <td>-0.215589</td>\n",
              "      <td>-0.110033</td>\n",
              "      <td>0.249541</td>\n",
              "      <td>0.239962</td>\n",
              "      <td>0.005479</td>\n",
              "      <td>0.536713</td>\n",
              "    </tr>\n",
              "    <tr>\n",
              "      <th>instrumentalness</th>\n",
              "      <td>0.221956</td>\n",
              "      <td>-0.177750</td>\n",
              "      <td>-0.215589</td>\n",
              "      <td>1.000000</td>\n",
              "      <td>-0.047941</td>\n",
              "      <td>-0.317562</td>\n",
              "      <td>-0.133966</td>\n",
              "      <td>-0.068656</td>\n",
              "      <td>-0.219188</td>\n",
              "    </tr>\n",
              "    <tr>\n",
              "      <th>liveness</th>\n",
              "      <td>-0.029654</td>\n",
              "      <td>0.134815</td>\n",
              "      <td>-0.110033</td>\n",
              "      <td>-0.047941</td>\n",
              "      <td>1.000000</td>\n",
              "      <td>0.062695</td>\n",
              "      <td>0.122034</td>\n",
              "      <td>0.008586</td>\n",
              "      <td>-0.005781</td>\n",
              "    </tr>\n",
              "    <tr>\n",
              "      <th>loudness</th>\n",
              "      <td>-0.546639</td>\n",
              "      <td>0.779267</td>\n",
              "      <td>0.249541</td>\n",
              "      <td>-0.317562</td>\n",
              "      <td>0.062695</td>\n",
              "      <td>1.000000</td>\n",
              "      <td>-0.213504</td>\n",
              "      <td>0.217914</td>\n",
              "      <td>0.302520</td>\n",
              "    </tr>\n",
              "    <tr>\n",
              "      <th>speechiness</th>\n",
              "      <td>-0.022437</td>\n",
              "      <td>-0.112616</td>\n",
              "      <td>0.239962</td>\n",
              "      <td>-0.133966</td>\n",
              "      <td>0.122034</td>\n",
              "      <td>-0.213504</td>\n",
              "      <td>1.000000</td>\n",
              "      <td>-0.033530</td>\n",
              "      <td>0.050600</td>\n",
              "    </tr>\n",
              "    <tr>\n",
              "      <th>tempo</th>\n",
              "      <td>-0.223840</td>\n",
              "      <td>0.266448</td>\n",
              "      <td>0.005479</td>\n",
              "      <td>-0.068656</td>\n",
              "      <td>0.008586</td>\n",
              "      <td>0.217914</td>\n",
              "      <td>-0.033530</td>\n",
              "      <td>1.000000</td>\n",
              "      <td>0.163118</td>\n",
              "    </tr>\n",
              "    <tr>\n",
              "      <th>valence</th>\n",
              "      <td>-0.166968</td>\n",
              "      <td>0.326418</td>\n",
              "      <td>0.536713</td>\n",
              "      <td>-0.219188</td>\n",
              "      <td>-0.005781</td>\n",
              "      <td>0.302520</td>\n",
              "      <td>0.050600</td>\n",
              "      <td>0.163118</td>\n",
              "      <td>1.000000</td>\n",
              "    </tr>\n",
              "  </tbody>\n",
              "</table>\n",
              "</div>\n",
              "      <button class=\"colab-df-convert\" onclick=\"convertToInteractive('df-b699ca67-15d1-4b59-b57b-c969a0bb4129')\"\n",
              "              title=\"Convert this dataframe to an interactive table.\"\n",
              "              style=\"display:none;\">\n",
              "        \n",
              "  <svg xmlns=\"http://www.w3.org/2000/svg\" height=\"24px\"viewBox=\"0 0 24 24\"\n",
              "       width=\"24px\">\n",
              "    <path d=\"M0 0h24v24H0V0z\" fill=\"none\"/>\n",
              "    <path d=\"M18.56 5.44l.94 2.06.94-2.06 2.06-.94-2.06-.94-.94-2.06-.94 2.06-2.06.94zm-11 1L8.5 8.5l.94-2.06 2.06-.94-2.06-.94L8.5 2.5l-.94 2.06-2.06.94zm10 10l.94 2.06.94-2.06 2.06-.94-2.06-.94-.94-2.06-.94 2.06-2.06.94z\"/><path d=\"M17.41 7.96l-1.37-1.37c-.4-.4-.92-.59-1.43-.59-.52 0-1.04.2-1.43.59L10.3 9.45l-7.72 7.72c-.78.78-.78 2.05 0 2.83L4 21.41c.39.39.9.59 1.41.59.51 0 1.02-.2 1.41-.59l7.78-7.78 2.81-2.81c.8-.78.8-2.07 0-2.86zM5.41 20L4 18.59l7.72-7.72 1.47 1.35L5.41 20z\"/>\n",
              "  </svg>\n",
              "      </button>\n",
              "      \n",
              "  <style>\n",
              "    .colab-df-container {\n",
              "      display:flex;\n",
              "      flex-wrap:wrap;\n",
              "      gap: 12px;\n",
              "    }\n",
              "\n",
              "    .colab-df-convert {\n",
              "      background-color: #E8F0FE;\n",
              "      border: none;\n",
              "      border-radius: 50%;\n",
              "      cursor: pointer;\n",
              "      display: none;\n",
              "      fill: #1967D2;\n",
              "      height: 32px;\n",
              "      padding: 0 0 0 0;\n",
              "      width: 32px;\n",
              "    }\n",
              "\n",
              "    .colab-df-convert:hover {\n",
              "      background-color: #E2EBFA;\n",
              "      box-shadow: 0px 1px 2px rgba(60, 64, 67, 0.3), 0px 1px 3px 1px rgba(60, 64, 67, 0.15);\n",
              "      fill: #174EA6;\n",
              "    }\n",
              "\n",
              "    [theme=dark] .colab-df-convert {\n",
              "      background-color: #3B4455;\n",
              "      fill: #D2E3FC;\n",
              "    }\n",
              "\n",
              "    [theme=dark] .colab-df-convert:hover {\n",
              "      background-color: #434B5C;\n",
              "      box-shadow: 0px 1px 3px 1px rgba(0, 0, 0, 0.15);\n",
              "      filter: drop-shadow(0px 1px 2px rgba(0, 0, 0, 0.3));\n",
              "      fill: #FFFFFF;\n",
              "    }\n",
              "  </style>\n",
              "\n",
              "      <script>\n",
              "        const buttonEl =\n",
              "          document.querySelector('#df-b699ca67-15d1-4b59-b57b-c969a0bb4129 button.colab-df-convert');\n",
              "        buttonEl.style.display =\n",
              "          google.colab.kernel.accessAllowed ? 'block' : 'none';\n",
              "\n",
              "        async function convertToInteractive(key) {\n",
              "          const element = document.querySelector('#df-b699ca67-15d1-4b59-b57b-c969a0bb4129');\n",
              "          const dataTable =\n",
              "            await google.colab.kernel.invokeFunction('convertToInteractive',\n",
              "                                                     [key], {});\n",
              "          if (!dataTable) return;\n",
              "\n",
              "          const docLinkHtml = 'Like what you see? Visit the ' +\n",
              "            '<a target=\"_blank\" href=https://colab.research.google.com/notebooks/data_table.ipynb>data table notebook</a>'\n",
              "            + ' to learn more about interactive tables.';\n",
              "          element.innerHTML = '';\n",
              "          dataTable['output_type'] = 'display_data';\n",
              "          await google.colab.output.renderOutput(dataTable, element);\n",
              "          const docLink = document.createElement('div');\n",
              "          docLink.innerHTML = docLinkHtml;\n",
              "          element.appendChild(docLink);\n",
              "        }\n",
              "      </script>\n",
              "    </div>\n",
              "  </div>\n",
              "  "
            ]
          },
          "metadata": {},
          "execution_count": 12
        }
      ],
      "source": [
        "df.corr()"
      ]
    },
    {
      "cell_type": "code",
      "execution_count": 13,
      "metadata": {
        "colab": {
          "base_uri": "https://localhost:8080/",
          "height": 206
        },
        "id": "R8EfQaIMim1M",
        "outputId": "196ab368-ae44-43ab-f791-f35a04661ee0"
      },
      "outputs": [
        {
          "output_type": "execute_result",
          "data": {
            "text/plain": [
              "                       id  acousticness  energy  danceability  \\\n",
              "0  0cS0A1fUEUd1EW3FcF8AEI      0.991000   0.224         0.598   \n",
              "1  0hbkKFIJm7Z05H8Zl9w30f      0.643000   0.517         0.852   \n",
              "2  11m7laMUgmOKqI3oYzuhne      0.993000   0.186         0.647   \n",
              "3  19Lc5SfJJ5O1oaxY0fpwfh      0.000173   0.798         0.730   \n",
              "4  2hJjbsLCytGsnAHfdsLejp      0.295000   0.707         0.704   \n",
              "\n",
              "   instrumentalness  liveness  loudness  speechiness    tempo  valence  \n",
              "0          0.000522    0.3790   -12.628       0.0936  149.976   0.6340  \n",
              "1          0.026400    0.0809    -7.261       0.0534   86.889   0.9500  \n",
              "2          0.000018    0.5190   -12.098       0.1740   97.600   0.6890  \n",
              "3          0.801000    0.1280    -7.311       0.0425  127.997   0.0422  \n",
              "4          0.000246    0.4020    -6.036       0.0768  122.076   0.2990  "
            ],
            "text/html": [
              "\n",
              "  <div id=\"df-ea32a17c-9c38-4277-b8fa-0dc54d516ba1\">\n",
              "    <div class=\"colab-df-container\">\n",
              "      <div>\n",
              "<style scoped>\n",
              "    .dataframe tbody tr th:only-of-type {\n",
              "        vertical-align: middle;\n",
              "    }\n",
              "\n",
              "    .dataframe tbody tr th {\n",
              "        vertical-align: top;\n",
              "    }\n",
              "\n",
              "    .dataframe thead th {\n",
              "        text-align: right;\n",
              "    }\n",
              "</style>\n",
              "<table border=\"1\" class=\"dataframe\">\n",
              "  <thead>\n",
              "    <tr style=\"text-align: right;\">\n",
              "      <th></th>\n",
              "      <th>id</th>\n",
              "      <th>acousticness</th>\n",
              "      <th>energy</th>\n",
              "      <th>danceability</th>\n",
              "      <th>instrumentalness</th>\n",
              "      <th>liveness</th>\n",
              "      <th>loudness</th>\n",
              "      <th>speechiness</th>\n",
              "      <th>tempo</th>\n",
              "      <th>valence</th>\n",
              "    </tr>\n",
              "  </thead>\n",
              "  <tbody>\n",
              "    <tr>\n",
              "      <th>0</th>\n",
              "      <td>0cS0A1fUEUd1EW3FcF8AEI</td>\n",
              "      <td>0.991000</td>\n",
              "      <td>0.224</td>\n",
              "      <td>0.598</td>\n",
              "      <td>0.000522</td>\n",
              "      <td>0.3790</td>\n",
              "      <td>-12.628</td>\n",
              "      <td>0.0936</td>\n",
              "      <td>149.976</td>\n",
              "      <td>0.6340</td>\n",
              "    </tr>\n",
              "    <tr>\n",
              "      <th>1</th>\n",
              "      <td>0hbkKFIJm7Z05H8Zl9w30f</td>\n",
              "      <td>0.643000</td>\n",
              "      <td>0.517</td>\n",
              "      <td>0.852</td>\n",
              "      <td>0.026400</td>\n",
              "      <td>0.0809</td>\n",
              "      <td>-7.261</td>\n",
              "      <td>0.0534</td>\n",
              "      <td>86.889</td>\n",
              "      <td>0.9500</td>\n",
              "    </tr>\n",
              "    <tr>\n",
              "      <th>2</th>\n",
              "      <td>11m7laMUgmOKqI3oYzuhne</td>\n",
              "      <td>0.993000</td>\n",
              "      <td>0.186</td>\n",
              "      <td>0.647</td>\n",
              "      <td>0.000018</td>\n",
              "      <td>0.5190</td>\n",
              "      <td>-12.098</td>\n",
              "      <td>0.1740</td>\n",
              "      <td>97.600</td>\n",
              "      <td>0.6890</td>\n",
              "    </tr>\n",
              "    <tr>\n",
              "      <th>3</th>\n",
              "      <td>19Lc5SfJJ5O1oaxY0fpwfh</td>\n",
              "      <td>0.000173</td>\n",
              "      <td>0.798</td>\n",
              "      <td>0.730</td>\n",
              "      <td>0.801000</td>\n",
              "      <td>0.1280</td>\n",
              "      <td>-7.311</td>\n",
              "      <td>0.0425</td>\n",
              "      <td>127.997</td>\n",
              "      <td>0.0422</td>\n",
              "    </tr>\n",
              "    <tr>\n",
              "      <th>4</th>\n",
              "      <td>2hJjbsLCytGsnAHfdsLejp</td>\n",
              "      <td>0.295000</td>\n",
              "      <td>0.707</td>\n",
              "      <td>0.704</td>\n",
              "      <td>0.000246</td>\n",
              "      <td>0.4020</td>\n",
              "      <td>-6.036</td>\n",
              "      <td>0.0768</td>\n",
              "      <td>122.076</td>\n",
              "      <td>0.2990</td>\n",
              "    </tr>\n",
              "  </tbody>\n",
              "</table>\n",
              "</div>\n",
              "      <button class=\"colab-df-convert\" onclick=\"convertToInteractive('df-ea32a17c-9c38-4277-b8fa-0dc54d516ba1')\"\n",
              "              title=\"Convert this dataframe to an interactive table.\"\n",
              "              style=\"display:none;\">\n",
              "        \n",
              "  <svg xmlns=\"http://www.w3.org/2000/svg\" height=\"24px\"viewBox=\"0 0 24 24\"\n",
              "       width=\"24px\">\n",
              "    <path d=\"M0 0h24v24H0V0z\" fill=\"none\"/>\n",
              "    <path d=\"M18.56 5.44l.94 2.06.94-2.06 2.06-.94-2.06-.94-.94-2.06-.94 2.06-2.06.94zm-11 1L8.5 8.5l.94-2.06 2.06-.94-2.06-.94L8.5 2.5l-.94 2.06-2.06.94zm10 10l.94 2.06.94-2.06 2.06-.94-2.06-.94-.94-2.06-.94 2.06-2.06.94z\"/><path d=\"M17.41 7.96l-1.37-1.37c-.4-.4-.92-.59-1.43-.59-.52 0-1.04.2-1.43.59L10.3 9.45l-7.72 7.72c-.78.78-.78 2.05 0 2.83L4 21.41c.39.39.9.59 1.41.59.51 0 1.02-.2 1.41-.59l7.78-7.78 2.81-2.81c.8-.78.8-2.07 0-2.86zM5.41 20L4 18.59l7.72-7.72 1.47 1.35L5.41 20z\"/>\n",
              "  </svg>\n",
              "      </button>\n",
              "      \n",
              "  <style>\n",
              "    .colab-df-container {\n",
              "      display:flex;\n",
              "      flex-wrap:wrap;\n",
              "      gap: 12px;\n",
              "    }\n",
              "\n",
              "    .colab-df-convert {\n",
              "      background-color: #E8F0FE;\n",
              "      border: none;\n",
              "      border-radius: 50%;\n",
              "      cursor: pointer;\n",
              "      display: none;\n",
              "      fill: #1967D2;\n",
              "      height: 32px;\n",
              "      padding: 0 0 0 0;\n",
              "      width: 32px;\n",
              "    }\n",
              "\n",
              "    .colab-df-convert:hover {\n",
              "      background-color: #E2EBFA;\n",
              "      box-shadow: 0px 1px 2px rgba(60, 64, 67, 0.3), 0px 1px 3px 1px rgba(60, 64, 67, 0.15);\n",
              "      fill: #174EA6;\n",
              "    }\n",
              "\n",
              "    [theme=dark] .colab-df-convert {\n",
              "      background-color: #3B4455;\n",
              "      fill: #D2E3FC;\n",
              "    }\n",
              "\n",
              "    [theme=dark] .colab-df-convert:hover {\n",
              "      background-color: #434B5C;\n",
              "      box-shadow: 0px 1px 3px 1px rgba(0, 0, 0, 0.15);\n",
              "      filter: drop-shadow(0px 1px 2px rgba(0, 0, 0, 0.3));\n",
              "      fill: #FFFFFF;\n",
              "    }\n",
              "  </style>\n",
              "\n",
              "      <script>\n",
              "        const buttonEl =\n",
              "          document.querySelector('#df-ea32a17c-9c38-4277-b8fa-0dc54d516ba1 button.colab-df-convert');\n",
              "        buttonEl.style.display =\n",
              "          google.colab.kernel.accessAllowed ? 'block' : 'none';\n",
              "\n",
              "        async function convertToInteractive(key) {\n",
              "          const element = document.querySelector('#df-ea32a17c-9c38-4277-b8fa-0dc54d516ba1');\n",
              "          const dataTable =\n",
              "            await google.colab.kernel.invokeFunction('convertToInteractive',\n",
              "                                                     [key], {});\n",
              "          if (!dataTable) return;\n",
              "\n",
              "          const docLinkHtml = 'Like what you see? Visit the ' +\n",
              "            '<a target=\"_blank\" href=https://colab.research.google.com/notebooks/data_table.ipynb>data table notebook</a>'\n",
              "            + ' to learn more about interactive tables.';\n",
              "          element.innerHTML = '';\n",
              "          dataTable['output_type'] = 'display_data';\n",
              "          await google.colab.output.renderOutput(dataTable, element);\n",
              "          const docLink = document.createElement('div');\n",
              "          docLink.innerHTML = docLinkHtml;\n",
              "          element.appendChild(docLink);\n",
              "        }\n",
              "      </script>\n",
              "    </div>\n",
              "  </div>\n",
              "  "
            ]
          },
          "metadata": {},
          "execution_count": 13
        }
      ],
      "source": [
        "df.head()"
      ]
    },
    {
      "cell_type": "code",
      "execution_count": 14,
      "metadata": {
        "colab": {
          "base_uri": "https://localhost:8080/",
          "height": 447
        },
        "id": "x2cAdAGaO8vZ",
        "outputId": "19661026-2373-49c0-ec84-3d6ef7abe2ca"
      },
      "outputs": [
        {
          "output_type": "execute_result",
          "data": {
            "text/plain": [
              "<Axes: >"
            ]
          },
          "metadata": {},
          "execution_count": 14
        },
        {
          "output_type": "display_data",
          "data": {
            "text/plain": [
              "<Figure size 640x480 with 1 Axes>"
            ],
            "image/png": "[encoded data removed]"
          },
          "metadata": {}
        }
      ],
      "source": [
        "df.plot()"
      ]
    },
    {
      "cell_type": "code",
      "execution_count": 15,
      "metadata": {
        "id": "gC8mwERAPSud"
      },
      "outputs": [],
      "source": [
        "from sklearn.preprocessing import MinMaxScaler"
      ]
    },
    {
      "cell_type": "code",
      "source": [
        "scalers = dict()"
      ],
      "metadata": {
        "id": "z14z3GQ9Nzz3"
      },
      "execution_count": 16,
      "outputs": []
    },
    {
      "cell_type": "code",
      "execution_count": 17,
      "metadata": {
        "id": "J_qJ7IF_PXtk"
      },
      "outputs": [],
      "source": [
        "for col_name in [\"acousticness\", \"energy\", \"danceability\", \"instrumentalness\", \"liveness\", \"loudness\", \"speechiness\", \"tempo\", \"valence\"]:\n",
        "    minmax = MinMaxScaler()\n",
        "    df[col_name] = minmax.fit_transform(df[[col_name]])\n",
        "    scalers[col_name] = minmax"
      ]
    },
    {
      "cell_type": "code",
      "execution_count": 18,
      "metadata": {
        "colab": {
          "base_uri": "https://localhost:8080/",
          "height": 300
        },
        "id": "3QXCOxQPRrCZ",
        "outputId": "04050778-ee8e-435c-cd96-37072471076b"
      },
      "outputs": [
        {
          "output_type": "execute_result",
          "data": {
            "text/plain": [
              "        acousticness         energy   danceability  instrumentalness  \\\n",
              "count  174389.000000  174389.000000  174389.000000     174389.000000   \n",
              "mean        0.501233       0.482721       0.543277          0.197252   \n",
              "std         0.381462       0.272685       0.178163          0.334574   \n",
              "min         0.000000       0.000000       0.000000          0.000000   \n",
              "25%         0.088052       0.249000       0.419028          0.000000   \n",
              "50%         0.519076       0.465000       0.554656          0.000524   \n",
              "75%         0.898594       0.711000       0.677126          0.252000   \n",
              "max         1.000000       1.000000       1.000000          1.000000   \n",
              "\n",
              "            liveness       loudness    speechiness          tempo  \\\n",
              "count  174389.000000  174389.000000  174389.000000  174389.000000   \n",
              "mean        0.211123       0.755605       0.108887       0.480506   \n",
              "std         0.180493       0.089133       0.187704       0.124244   \n",
              "min         0.000000       0.000000       0.000000       0.000000   \n",
              "25%         0.099200       0.706162       0.036251       0.385743   \n",
              "50%         0.138000       0.769932       0.046859       0.475617   \n",
              "75%         0.270000       0.822191       0.078579       0.554444   \n",
              "max         1.000000       1.000000       1.000000       1.000000   \n",
              "\n",
              "             valence  \n",
              "count  174389.000000  \n",
              "mean        0.524533  \n",
              "std         0.264477  \n",
              "min         0.000000  \n",
              "25%         0.311000  \n",
              "50%         0.536000  \n",
              "75%         0.743000  \n",
              "max         1.000000  "
            ],
            "text/html": [
              "\n",
              "  <div id=\"df-e29ad9fd-cd5c-4c1b-84d3-2f9000dc78e6\">\n",
              "    <div class=\"colab-df-container\">\n",
              "      <div>\n",
              "<style scoped>\n",
              "    .dataframe tbody tr th:only-of-type {\n",
              "        vertical-align: middle;\n",
              "    }\n",
              "\n",
              "    .dataframe tbody tr th {\n",
              "        vertical-align: top;\n",
              "    }\n",
              "\n",
              "    .dataframe thead th {\n",
              "        text-align: right;\n",
              "    }\n",
              "</style>\n",
              "<table border=\"1\" class=\"dataframe\">\n",
              "  <thead>\n",
              "    <tr style=\"text-align: right;\">\n",
              "      <th></th>\n",
              "      <th>acousticness</th>\n",
              "      <th>energy</th>\n",
              "      <th>danceability</th>\n",
              "      <th>instrumentalness</th>\n",
              "      <th>liveness</th>\n",
              "      <th>loudness</th>\n",
              "      <th>speechiness</th>\n",
              "      <th>tempo</th>\n",
              "      <th>valence</th>\n",
              "    </tr>\n",
              "  </thead>\n",
              "  <tbody>\n",
              "    <tr>\n",
              "      <th>count</th>\n",
              "      <td>174389.000000</td>\n",
              "      <td>174389.000000</td>\n",
              "      <td>174389.000000</td>\n",
              "      <td>174389.000000</td>\n",
              "      <td>174389.000000</td>\n",
              "      <td>174389.000000</td>\n",
              "      <td>174389.000000</td>\n",
              "      <td>174389.000000</td>\n",
              "      <td>174389.000000</td>\n",
              "    </tr>\n",
              "    <tr>\n",
              "      <th>mean</th>\n",
              "      <td>0.501233</td>\n",
              "      <td>0.482721</td>\n",
              "      <td>0.543277</td>\n",
              "      <td>0.197252</td>\n",
              "      <td>0.211123</td>\n",
              "      <td>0.755605</td>\n",
              "      <td>0.108887</td>\n",
              "      <td>0.480506</td>\n",
              "      <td>0.524533</td>\n",
              "    </tr>\n",
              "    <tr>\n",
              "      <th>std</th>\n",
              "      <td>0.381462</td>\n",
              "      <td>0.272685</td>\n",
              "      <td>0.178163</td>\n",
              "      <td>0.334574</td>\n",
              "      <td>0.180493</td>\n",
              "      <td>0.089133</td>\n",
              "      <td>0.187704</td>\n",
              "      <td>0.124244</td>\n",
              "      <td>0.264477</td>\n",
              "    </tr>\n",
              "    <tr>\n",
              "      <th>min</th>\n",
              "      <td>0.000000</td>\n",
              "      <td>0.000000</td>\n",
              "      <td>0.000000</td>\n",
              "      <td>0.000000</td>\n",
              "      <td>0.000000</td>\n",
              "      <td>0.000000</td>\n",
              "      <td>0.000000</td>\n",
              "      <td>0.000000</td>\n",
              "      <td>0.000000</td>\n",
              "    </tr>\n",
              "    <tr>\n",
              "      <th>25%</th>\n",
              "      <td>0.088052</td>\n",
              "      <td>0.249000</td>\n",
              "      <td>0.419028</td>\n",
              "      <td>0.000000</td>\n",
              "      <td>0.099200</td>\n",
              "      <td>0.706162</td>\n",
              "      <td>0.036251</td>\n",
              "      <td>0.385743</td>\n",
              "      <td>0.311000</td>\n",
              "    </tr>\n",
              "    <tr>\n",
              "      <th>50%</th>\n",
              "      <td>0.519076</td>\n",
              "      <td>0.465000</td>\n",
              "      <td>0.554656</td>\n",
              "      <td>0.000524</td>\n",
              "      <td>0.138000</td>\n",
              "      <td>0.769932</td>\n",
              "      <td>0.046859</td>\n",
              "      <td>0.475617</td>\n",
              "      <td>0.536000</td>\n",
              "    </tr>\n",
              "    <tr>\n",
              "      <th>75%</th>\n",
              "      <td>0.898594</td>\n",
              "      <td>0.711000</td>\n",
              "      <td>0.677126</td>\n",
              "      <td>0.252000</td>\n",
              "      <td>0.270000</td>\n",
              "      <td>0.822191</td>\n",
              "      <td>0.078579</td>\n",
              "      <td>0.554444</td>\n",
              "      <td>0.743000</td>\n",
              "    </tr>\n",
              "    <tr>\n",
              "      <th>max</th>\n",
              "      <td>1.000000</td>\n",
              "      <td>1.000000</td>\n",
              "      <td>1.000000</td>\n",
              "      <td>1.000000</td>\n",
              "      <td>1.000000</td>\n",
              "      <td>1.000000</td>\n",
              "      <td>1.000000</td>\n",
              "      <td>1.000000</td>\n",
              "      <td>1.000000</td>\n",
              "    </tr>\n",
              "  </tbody>\n",
              "</table>\n",
              "</div>\n",
              "      <button class=\"colab-df-convert\" onclick=\"convertToInteractive('df-e29ad9fd-cd5c-4c1b-84d3-2f9000dc78e6')\"\n",
              "              title=\"Convert this dataframe to an interactive table.\"\n",
              "              style=\"display:none;\">\n",
              "        \n",
              "  <svg xmlns=\"http://www.w3.org/2000/svg\" height=\"24px\"viewBox=\"0 0 24 24\"\n",
              "       width=\"24px\">\n",
              "    <path d=\"M0 0h24v24H0V0z\" fill=\"none\"/>\n",
              "    <path d=\"M18.56 5.44l.94 2.06.94-2.06 2.06-.94-2.06-.94-.94-2.06-.94 2.06-2.06.94zm-11 1L8.5 8.5l.94-2.06 2.06-.94-2.06-.94L8.5 2.5l-.94 2.06-2.06.94zm10 10l.94 2.06.94-2.06 2.06-.94-2.06-.94-.94-2.06-.94 2.06-2.06.94z\"/><path d=\"M17.41 7.96l-1.37-1.37c-.4-.4-.92-.59-1.43-.59-.52 0-1.04.2-1.43.59L10.3 9.45l-7.72 7.72c-.78.78-.78 2.05 0 2.83L4 21.41c.39.39.9.59 1.41.59.51 0 1.02-.2 1.41-.59l7.78-7.78 2.81-2.81c.8-.78.8-2.07 0-2.86zM5.41 20L4 18.59l7.72-7.72 1.47 1.35L5.41 20z\"/>\n",
              "  </svg>\n",
              "      </button>\n",
              "      \n",
              "  <style>\n",
              "    .colab-df-container {\n",
              "      display:flex;\n",
              "      flex-wrap:wrap;\n",
              "      gap: 12px;\n",
              "    }\n",
              "\n",
              "    .colab-df-convert {\n",
              "      background-color: #E8F0FE;\n",
              "      border: none;\n",
              "      border-radius: 50%;\n",
              "      cursor: pointer;\n",
              "      display: none;\n",
              "      fill: #1967D2;\n",
              "      height: 32px;\n",
              "      padding: 0 0 0 0;\n",
              "      width: 32px;\n",
              "    }\n",
              "\n",
              "    .colab-df-convert:hover {\n",
              "      background-color: #E2EBFA;\n",
              "      box-shadow: 0px 1px 2px rgba(60, 64, 67, 0.3), 0px 1px 3px 1px rgba(60, 64, 67, 0.15);\n",
              "      fill: #174EA6;\n",
              "    }\n",
              "\n",
              "    [theme=dark] .colab-df-convert {\n",
              "      background-color: #3B4455;\n",
              "      fill: #D2E3FC;\n",
              "    }\n",
              "\n",
              "    [theme=dark] .colab-df-convert:hover {\n",
              "      background-color: #434B5C;\n",
              "      box-shadow: 0px 1px 3px 1px rgba(0, 0, 0, 0.15);\n",
              "      filter: drop-shadow(0px 1px 2px rgba(0, 0, 0, 0.3));\n",
              "      fill: #FFFFFF;\n",
              "    }\n",
              "  </style>\n",
              "\n",
              "      <script>\n",
              "        const buttonEl =\n",
              "          document.querySelector('#df-e29ad9fd-cd5c-4c1b-84d3-2f9000dc78e6 button.colab-df-convert');\n",
              "        buttonEl.style.display =\n",
              "          google.colab.kernel.accessAllowed ? 'block' : 'none';\n",
              "\n",
              "        async function convertToInteractive(key) {\n",
              "          const element = document.querySelector('#df-e29ad9fd-cd5c-4c1b-84d3-2f9000dc78e6');\n",
              "          const dataTable =\n",
              "            await google.colab.kernel.invokeFunction('convertToInteractive',\n",
              "                                                     [key], {});\n",
              "          if (!dataTable) return;\n",
              "\n",
              "          const docLinkHtml = 'Like what you see? Visit the ' +\n",
              "            '<a target=\"_blank\" href=https://colab.research.google.com/notebooks/data_table.ipynb>data table notebook</a>'\n",
              "            + ' to learn more about interactive tables.';\n",
              "          element.innerHTML = '';\n",
              "          dataTable['output_type'] = 'display_data';\n",
              "          await google.colab.output.renderOutput(dataTable, element);\n",
              "          const docLink = document.createElement('div');\n",
              "          docLink.innerHTML = docLinkHtml;\n",
              "          element.appendChild(docLink);\n",
              "        }\n",
              "      </script>\n",
              "    </div>\n",
              "  </div>\n",
              "  "
            ]
          },
          "metadata": {},
          "execution_count": 18
        }
      ],
      "source": [
        "df.describe()"
      ]
    },
    {
      "cell_type": "code",
      "execution_count": 19,
      "metadata": {
        "colab": {
          "base_uri": "https://localhost:8080/",
          "height": 447
        },
        "id": "w874T27yPo8y",
        "outputId": "b0d095a2-cef8-4c71-b0bb-41fe94dda6f7"
      },
      "outputs": [
        {
          "output_type": "execute_result",
          "data": {
            "text/plain": [
              "<Axes: >"
            ]
          },
          "metadata": {},
          "execution_count": 19
        },
        {
          "output_type": "display_data",
          "data": {
            "text/plain": [
              "<Figure size 640x480 with 1 Axes>"
            ],
            "image/png": "[encoded data removed]"
          },
          "metadata": {}
        }
      ],
      "source": [
        "df.plot()"
      ]
    },
    {
      "cell_type": "code",
      "execution_count": 20,
      "metadata": {
        "id": "vIi_G0XCLNZ5"
      },
      "outputs": [],
      "source": [
        "df_list = df.values.tolist()"
      ]
    },
    {
      "cell_type": "code",
      "execution_count": 21,
      "metadata": {
        "id": "UJCpaT5vNDDO"
      },
      "outputs": [],
      "source": [
        "embeddings = dict()"
      ]
    },
    {
      "cell_type": "code",
      "execution_count": 22,
      "metadata": {
        "id": "GoDnpGCONiZy"
      },
      "outputs": [],
      "source": [
        "for i in range(len(df_list)):\n",
        "    temp = df_list[i]\n",
        "    key = temp[0]\n",
        "    temp.pop(0)\n",
        "    embeddings[key] = temp"
      ]
    },
    {
      "cell_type": "code",
      "execution_count": 23,
      "metadata": {
        "colab": {
          "base_uri": "https://localhost:8080/"
        },
        "id": "958KxL6NOTE-",
        "outputId": "397ba2e8-052b-4079-e7df-0eac25b6c3f5"
      },
      "outputs": [
        {
          "output_type": "execute_result",
          "data": {
            "text/plain": [
              "172230"
            ]
          },
          "metadata": {},
          "execution_count": 23
        }
      ],
      "source": [
        "len(embeddings)"
      ]
    },
    {
      "cell_type": "code",
      "execution_count": 24,
      "metadata": {
        "colab": {
          "base_uri": "https://localhost:8080/"
        },
        "id": "X61ihGz2Qyfr",
        "outputId": "610b83dc-552e-4c64-bfb1-d3eda00ed9b1"
      },
      "outputs": [
        {
          "output_type": "execute_result",
          "data": {
            "text/plain": [
              "(174389, 10)"
            ]
          },
          "metadata": {},
          "execution_count": 24
        }
      ],
      "source": [
        "df.shape"
      ]
    },
    {
      "cell_type": "code",
      "execution_count": 25,
      "metadata": {
        "id": "xKLRR1cxP4iU"
      },
      "outputs": [],
      "source": [
        "import tensorflow as tf\n",
        "from tensorflow import keras"
      ]
    },
    {
      "cell_type": "code",
      "execution_count": 26,
      "metadata": {
        "id": "c0zusn4NQCK6"
      },
      "outputs": [],
      "source": [
        "input_layer = keras.layers.Input(shape=(9,))\n",
        "encoded = keras.layers.Dense(12, activation=\"relu\")(input_layer)\n",
        "encoded = keras.layers.Dense(15, activation=\"relu\")(encoded)\n",
        "encoded = keras.layers.Dense(17, activation=\"relu\")(encoded)\n",
        "encoded = keras.layers.Dense(20, activation=\"relu\")(encoded)\n",
        "decoded = keras.layers.Dense(17, activation=\"relu\")(encoded)\n",
        "decoded = keras.layers.Dense(15, activation=\"relu\")(decoded)\n",
        "decoded = keras.layers.Dense(12, activation=\"relu\")(decoded)\n",
        "decoded = keras.layers.Dense(9, activation=\"sigmoid\")(decoded)\n",
        "\n",
        "autoencoder = keras.Model(input_layer, decoded)\n",
        "encoder = keras.Model(input_layer, encoded)\n",
        "autoencoder.compile(optimizer=\"adam\", loss=\"binary_crossentropy\", metrics=[\"accuracy\"])"
      ]
    },
    {
      "cell_type": "code",
      "execution_count": 27,
      "metadata": {
        "id": "5C-mqojKVKBi"
      },
      "outputs": [],
      "source": [
        "data = list(embeddings.values())"
      ]
    },
    {
      "cell_type": "code",
      "source": [
        "len(data)"
      ],
      "metadata": {
        "colab": {
          "base_uri": "https://localhost:8080/"
        },
        "id": "lunVDB5FOUmc",
        "outputId": "ac8ed720-a9eb-4550-ed97-d7549f69af22"
      },
      "execution_count": 28,
      "outputs": [
        {
          "output_type": "execute_result",
          "data": {
            "text/plain": [
              "172230"
            ]
          },
          "metadata": {},
          "execution_count": 28
        }
      ]
    },
    {
      "cell_type": "code",
      "source": [
        "data[0]"
      ],
      "metadata": {
        "colab": {
          "base_uri": "https://localhost:8080/"
        },
        "id": "OK3wbp3POd6p",
        "outputId": "ae10235f-8e97-4d1e-a231-771091be87ad"
      },
      "execution_count": 29,
      "outputs": [
        {
          "output_type": "execute_result",
          "data": {
            "text/plain": [
              "[0.9949799196787149,\n",
              " 0.2239999999999999,\n",
              " 0.6052631578947368,\n",
              " 0.000522,\n",
              " 0.379,\n",
              " 0.7418682953566675,\n",
              " 0.09639546858908343,\n",
              " 0.6159001589276695,\n",
              " 0.634]"
            ]
          },
          "metadata": {},
          "execution_count": 29
        }
      ]
    },
    {
      "cell_type": "code",
      "source": [
        "hist = autoencoder.fit(data, data, epochs=10)"
      ],
      "metadata": {
        "colab": {
          "base_uri": "https://localhost:8080/"
        },
        "id": "oM_djz8SOfCF",
        "outputId": "fbec5e7d-b7ca-4618-c56d-450d2adb877e"
      },
      "execution_count": 30,
      "outputs": [
        {
          "output_type": "stream",
          "name": "stdout",
          "text": [
            "Epoch 1/10\n",
            "5383/5383 [==============================] - 32s 5ms/step - loss: 0.4750 - accuracy: 0.7612\n",
            "Epoch 2/10\n",
            "5383/5383 [==============================] - 24s 5ms/step - loss: 0.4568 - accuracy: 0.8271\n",
            "Epoch 3/10\n",
            "5383/5383 [==============================] - 24s 4ms/step - loss: 0.4550 - accuracy: 0.8433\n",
            "Epoch 4/10\n",
            "5383/5383 [==============================] - 24s 5ms/step - loss: 0.4541 - accuracy: 0.8558\n",
            "Epoch 5/10\n",
            "5383/5383 [==============================] - 23s 4ms/step - loss: 0.4519 - accuracy: 0.8752\n",
            "Epoch 6/10\n",
            "5383/5383 [==============================] - 25s 5ms/step - loss: 0.4506 - accuracy: 0.8847\n",
            "Epoch 7/10\n",
            "5383/5383 [==============================] - 24s 4ms/step - loss: 0.4503 - accuracy: 0.8857\n",
            "Epoch 8/10\n",
            "5383/5383 [==============================] - 24s 4ms/step - loss: 0.4502 - accuracy: 0.8874\n",
            "Epoch 9/10\n",
            "5383/5383 [==============================] - 24s 4ms/step - loss: 0.4501 - accuracy: 0.8883\n",
            "Epoch 10/10\n",
            "5383/5383 [==============================] - 24s 4ms/step - loss: 0.4500 - accuracy: 0.8881\n"
          ]
        }
      ]
    },
    {
      "cell_type": "code",
      "source": [
        "autoencoder.evaluate(data, data)"
      ],
      "metadata": {
        "colab": {
          "base_uri": "https://localhost:8080/"
        },
        "id": "08OMRfx_O7CD",
        "outputId": "9d558556-42e7-4a35-8d93-66bc30c34d0b"
      },
      "execution_count": 31,
      "outputs": [
        {
          "output_type": "stream",
          "name": "stdout",
          "text": [
            "5383/5383 [==============================] - 13s 2ms/step - loss: 0.4501 - accuracy: 0.8856\n"
          ]
        },
        {
          "output_type": "execute_result",
          "data": {
            "text/plain": [
              "[0.450055330991745, 0.8855948448181152]"
            ]
          },
          "metadata": {},
          "execution_count": 31
        }
      ]
    },
    {
      "cell_type": "code",
      "source": [
        "encodings = encoder.predict(data)"
      ],
      "metadata": {
        "colab": {
          "base_uri": "https://localhost:8080/"
        },
        "id": "0lq1cK5qOoW0",
        "outputId": "c0617f0f-f1f1-4816-f7ae-e70b1896d139"
      },
      "execution_count": 32,
      "outputs": [
        {
          "output_type": "stream",
          "name": "stdout",
          "text": [
            "5383/5383 [==============================] - 8s 1ms/step\n"
          ]
        }
      ]
    },
    {
      "cell_type": "code",
      "source": [
        "encodings.shape"
      ],
      "metadata": {
        "colab": {
          "base_uri": "https://localhost:8080/"
        },
        "id": "OC9Kob4xO-T5",
        "outputId": "88a426ea-f14e-4c16-d27e-72d147c9825c"
      },
      "execution_count": 33,
      "outputs": [
        {
          "output_type": "execute_result",
          "data": {
            "text/plain": [
              "(172230, 20)"
            ]
          },
          "metadata": {},
          "execution_count": 33
        }
      ]
    },
    {
      "cell_type": "code",
      "source": [
        "key_list = list(embeddings.keys())\n",
        "\n",
        "for i in range(len(key_list)):\n",
        "    embeddings[key_list[i]] = encodings[i]"
      ],
      "metadata": {
        "id": "Y5B_5JP_RKqB"
      },
      "execution_count": 34,
      "outputs": []
    },
    {
      "cell_type": "code",
      "source": [
        "embeddings[list(embeddings.keys())[0]].shape"
      ],
      "metadata": {
        "colab": {
          "base_uri": "https://localhost:8080/"
        },
        "id": "ITlnbq3SSejj",
        "outputId": "a5286f23-8630-48e7-f93f-bb79b17a23d9"
      },
      "execution_count": 35,
      "outputs": [
        {
          "output_type": "execute_result",
          "data": {
            "text/plain": [
              "(20,)"
            ]
          },
          "metadata": {},
          "execution_count": 35
        }
      ]
    },
    {
      "cell_type": "code",
      "source": [
        "autoencoder.save(\"/content/gdrive/MyDrive/Music Rec/autoencoder.h5\")"
      ],
      "metadata": {
        "id": "l-bZ7fOoSmuc"
      },
      "execution_count": 36,
      "outputs": []
    },
    {
      "cell_type": "code",
      "source": [
        "encoder.save(\"/content/gdrive/MyDrive/Music Rec/encoder.h5\")"
      ],
      "metadata": {
        "colab": {
          "base_uri": "https://localhost:8080/"
        },
        "id": "pMSU4mZmTAZn",
        "outputId": "5ee94de9-5802-4f5e-819d-bf1c35373a1e"
      },
      "execution_count": 37,
      "outputs": [
        {
          "output_type": "stream",
          "name": "stderr",
          "text": [
            "WARNING:tensorflow:Compiled the loaded model, but the compiled metrics have yet to be built. `model.compile_metrics` will be empty until you train or evaluate the model.\n"
          ]
        }
      ]
    },
    {
      "cell_type": "code",
      "source": [
        "import pickle"
      ],
      "metadata": {
        "id": "gTOHAzIeTMuy"
      },
      "execution_count": 38,
      "outputs": []
    },
    {
      "cell_type": "code",
      "source": [
        "with open(\"/content/gdrive/MyDrive/Music Rec/scalers.pkl\", \"wb\") as f:\n",
        "    pickle.dump(scalers, f)"
      ],
      "metadata": {
        "id": "QKxl2KOYTDbW"
      },
      "execution_count": 39,
      "outputs": []
    },
    {
      "cell_type": "code",
      "source": [
        "with open(\"/content/gdrive/MyDrive/Music Rec/embeddings.pkl\", \"wb\") as f:\n",
        "    pickle.dump(embeddings, f)"
      ],
      "metadata": {
        "id": "Ww0rnVWFTU0c"
      },
      "execution_count": 40,
      "outputs": []
    },
    {
      "cell_type": "code",
      "source": [
        "    "
      ],
      "metadata": {
        "id": "iRf8AZC2TkNC"
      },
      "execution_count": 40,
      "outputs": []
    }
  ],
  "metadata": {
    "colab": {
      "provenance": []
    },
    "kernelspec": {
      "display_name": "Python 3",
      "name": "python3"
    },
    "language_info": {
      "name": "python"
    },
    "accelerator": "GPU",
    "gpuClass": "standard"
  },
  "nbformat": 4,
  "nbformat_minor": 0
}